{
 "cells": [
  {
   "cell_type": "code",
   "execution_count": 13,
   "id": "2680be0c-2d10-49c1-85d6-d12f45ee53c3",
   "metadata": {},
   "outputs": [],
   "source": [
    "import numpy as np\n",
    "import pandas as pd\n",
    "from math import ceil\n",
    "from itertools import product\n",
    "from scipy.sparse import csr_matrix, csr_array, lil_matrix\n",
    "import scipy.sparse as scs\n",
    "import xarray as xr\n",
    "import math\n",
    "from functools import reduce\n",
    "\n",
    "import gurobipy as gp\n",
    "from gurobipy import GRB\n",
    "\n",
    "import cvxpy as cp"
   ]
  },
  {
   "cell_type": "code",
   "execution_count": 2,
   "id": "0edd07d3-3e43-4d9d-920d-ce91bb2695f5",
   "metadata": {},
   "outputs": [],
   "source": [
    "import ps_data_worker as dw"
   ]
  },
  {
   "cell_type": "code",
   "execution_count": 6,
   "id": "9f9ee829-7d57-4167-862d-bb6d73464c00",
   "metadata": {},
   "outputs": [],
   "source": [
    "RTS_DATA_DIR = 'RTS_Data'"
   ]
  },
  {
   "cell_type": "code",
   "execution_count": 7,
   "id": "8e478194-00c2-40f8-b191-341a57152cfc",
   "metadata": {},
   "outputs": [
    {
     "name": "stdout",
     "output_type": "stream",
     "text": [
      ">>> Reading system data\n",
      ">>> Reading time series data\n"
     ]
    }
   ],
   "source": [
    "# load rts data\n",
    "rtsdata = dw.RTSDataSet(RTS_DATA_DIR)\n",
    "\n",
    "# prepare model data\n",
    "psdata = dw.create_ps_data_from_rts_data(rtsdata)\n",
    "gencost = dw.create_cost_data_from_rts_data(rtsdata)\n",
    "\n",
    "# preprare time series\n",
    "first_period = (2020, 1, 1, 1) # year, month, day, period\n",
    "horizon = 24 # #periods\n",
    "gen_ts_mw, load_ts_mw = dw.prepare_da_timeseries_data(first_period, horizon, rtsdata, psdata)"
   ]
  },
  {
   "cell_type": "code",
   "execution_count": 9,
   "id": "6de1c466-e85a-47c8-9bef-cb4124284e57",
   "metadata": {},
   "outputs": [],
   "source": [
    "# prepare model data\n",
    "\n",
    "basemva = rtsdata.basemva\n",
    "\n",
    "buses = psdata.busdata\n",
    "gens = psdata.gendata\n",
    "branches = psdata.branchdata\n",
    "\n",
    "# list of gens with timeseries dependent injctions\n",
    "gens_with_ts = list(gen_ts_mw.keys())\n",
    "\n",
    "# per unit load\n",
    "D_pu = {}\n",
    "for k,v in load_ts_mw.items():\n",
    "    D_pu[k] = np.array(v)/basemva\n",
    "\n",
    "# per unit ts generation\n",
    "gen_ts_pu = {}\n",
    "for k,v in gen_ts_mw.items():\n",
    "    gen_ts_pu[k] = np.array(v)/basemva\n",
    "\n",
    "Nbus = len(buses)\n",
    "Ngen = len(gens)\n",
    "Nbranch = len(branches)\n",
    "Nt = horizon\n",
    "\n",
    "# get slack bus\n",
    "slack = [i for i,bus in enumerate(buses) if bus['is_slack']]\n",
    "slack_ind = slack[0]\n",
    "\n",
    "# compute ptdf (not currently used in model)\n",
    "b_vec = np.array([1/branch['x_pu'] for branch in branches])\n",
    "b_diag = csr_matrix(np.diag(b_vec))\n",
    "lines_list = [i for i in range(Nbranch)]*2\n",
    "fromtobus = [branch['from_bus'] for branch in branches] + [branch['to_bus'] for branch in branches]\n",
    "data = [1]*Nbranch + [-1]*Nbranch \n",
    "inc_mat = csr_matrix((data, (lines_list, fromtobus)))\n",
    "B_branch = b_diag @ inc_mat\n",
    "B_bus = inc_mat.T @ B_branch\n",
    "buses_sans_slack = [i for i in range(Nbus) if i not in slack]\n",
    "B_bus_sans_slack = B_bus[buses_sans_slack][:,buses_sans_slack]\n",
    "B_bus_inv_sans_slack = scs.linalg.inv(B_bus_sans_slack)\n",
    "# add row/col of zeros before index slack\n",
    "B_bus_pseudoinv = B_bus_inv_sans_slack\n",
    "for i in slack:\n",
    "    zero_row = i # insert row before old row of that index\n",
    "    zero_col = i # insert col before old col of that index\n",
    "    B_bus_pseudoinv._shape = (B_bus_pseudoinv._shape[0]+1, B_bus_pseudoinv._shape[1]+1)\n",
    "    B_bus_pseudoinv.indices[B_bus_pseudoinv.indices >= zero_col] += 1\n",
    "    B_bus_pseudoinv.indptr = np.insert(B_bus_pseudoinv.indptr, zero_row+1, B_bus_pseudoinv.indptr[zero_row])\n",
    "ptdf = B_branch @ B_bus_pseudoinv\n",
    "ptdf.data = np.round(ptdf.data, 6)\n",
    "ptdf.eliminate_zeros()\n"
   ]
  },
  {
   "cell_type": "code",
   "execution_count": 10,
   "id": "bd5cb6a5-00a5-4009-b285-a62031fc2fe8",
   "metadata": {},
   "outputs": [
    {
     "name": "stdout",
     "output_type": "stream",
     "text": [
      "Set parameter Username\n",
      "Academic license - for non-commercial use only - expires 2025-01-30\n"
     ]
    }
   ],
   "source": [
    "# Basic SCUC\n",
    "\n",
    "m = gp.Model()\n",
    "\n",
    "# main variables\n",
    "p = m.addVars(list(range(Ngen)), list(range(Nt)), lb=0, ub=GRB.INFINITY, name=\"p\")\n",
    "u = m.addVars(list(range(Ngen)), list(range(Nt)), vtype=GRB.BINARY, name=\"u\") #offline indicator\n",
    "v = m.addVars(list(range(Ngen)), list(range(Nt)), vtype=GRB.BINARY, name=\"v\") #start-up indicator\n",
    "w = m.addVars(list(range(Ngen)), list(range(Nt)), vtype=GRB.BINARY, name=\"w\") #shut-down indicator\n",
    "f = m.addVars(list(range(Nbranch)), list(range(Nt)), lb=-GRB.INFINITY, ub=GRB.INFINITY, name=\"f\")\n",
    "theta = m.addVars(list(range(Nbus)), list(range(Nt)), lb=-GRB.INFINITY, ub=GRB.INFINITY, name=\"theta\")\n",
    "\n",
    "consts = []\n",
    "for t in range(Nt):\n",
    "    for b,bus in enumerate(buses):\n",
    "        # bus energy balance\n",
    "        m.addConstr(\n",
    "            sum(p[g,t] for g in bus['gens']) + \n",
    "            sum(f[l,t] for l in bus['branches_in']) - \n",
    "            sum(f[l,t] for l in bus['branches_out']) == D_pu[bus['id']][t]\n",
    "        )\n",
    "    \n",
    "    # generator constraints\n",
    "    for g,gen in enumerate(gens):\n",
    "        if gen['id'] in gens_with_ts:\n",
    "            m.addConstr(u[g,t] == 1)\n",
    "            m.addConstr(v[g,t] == 0)\n",
    "            m.addConstr(w[g,t] == 0)\n",
    "            m.addConstr(p[g,t] <= gen_ts_pu[gen['id']][t])\n",
    "        else:\n",
    "            # production limits\n",
    "            m.addConstr(p[g,t] <= gen['pmax_pu']*u[g,t])\n",
    "            m.addConstr(p[g,t] >= gen['pmin_pu']*u[g,t])\n",
    "            # ramping\n",
    "            if t>0:\n",
    "                m.addConstr(p[g,t] - p[g,t-1] <= gen['ramp_rate_pu_min']*60*u[g,t-1] + gen['pmin_pu']*v[g,t])\n",
    "                m.addConstr(p[g,t-1] - p[g,t] <= gen['ramp_rate_pu_min']*60*u[g,t-1] + gen['pmin_pu']*w[t,i])\n",
    "            # binary logic\n",
    "            if t>0:\n",
    "                m.addConstr(v[g,t] - w[g,t] == u[g,t] - u[g,t-1])\n",
    "            else:\n",
    "                m.addConstr(v[g,t] - w[g,t] == u[g,t])\n",
    "\n",
    "    # power flow definition and constraints\n",
    "    m.addConstr(theta[slack_ind, t] == 0)\n",
    "    for l,line in enumerate(branches):\n",
    "        # power flow model using voltage angles\n",
    "        m.addConstr(f[l,t] == 1/line['x_pu'] * (theta[line['from_bus'],t] - theta[line['to_bus'],t]))\n",
    "        m.addConstr(f[l,t] <= line['cap_pu'])\n",
    "        m.addConstr(f[l,t] >= -line['cap_pu'])\n",
    "                      \n",
    "# objective with simplified production cost\n",
    "production_cost = sum(\n",
    "        sum(p[g,t]*gencost[g].pwlc.slopes[0] for g in range(Ngen))\n",
    "    for t in range(Nt))\n",
    "fixed_cost = sum(\n",
    "        sum(v[g,t]*gencost[g].startup for g in range(Ngen)) +\n",
    "        sum(w[g,t]*gencost[g].shutdown for g in range(Ngen))\n",
    "    for t in range(Nt))\n",
    "objective = production_cost + fixed_cost\n",
    "\n",
    "m.setObjective(objective, GRB.MINIMIZE)\n",
    "\n",
    "m.optimize()"
   ]
  },
  {
   "cell_type": "code",
   "execution_count": 14,
   "id": "a8b8e722-063d-498f-8574-b41b02749b11",
   "metadata": {},
   "outputs": [
    {
     "name": "stderr",
     "output_type": "stream",
     "text": [
      "/Library/Frameworks/Python.framework/Versions/3.12/lib/python3.12/site-packages/cvxpy/problems/problem.py:158: UserWarning: Objective contains too many subexpressions. Consider vectorizing your CVXPY code to speed up compilation.\n",
      "  warnings.warn(\"Objective contains too many subexpressions. \"\n"
     ]
    },
    {
     "data": {
      "text/plain": [
       "45080.00596252813"
      ]
     },
     "execution_count": 14,
     "metadata": {},
     "output_type": "execute_result"
    }
   ],
   "source": [
    "# Basic SCUC cvxpy version\n",
    "\n",
    "# main variables\n",
    "p = cp.Variable((Ngen, Nt), pos=True, name=\"p\")\n",
    "u = cp.Variable((Ngen, Nt), boolean=True, name=\"u\") #offline indicator\n",
    "v = cp.Variable((Ngen, Nt), boolean=True, name=\"v\") #start-up indicator\n",
    "w = cp.Variable((Ngen, Nt), boolean=True, name=\"w\") #shut-down indicator\n",
    "f = cp.Variable((Nbranch, Nt), name=\"f\")\n",
    "theta = cp.Variable((Nbus, Nt), name=\"theta\")\n",
    "\n",
    "consts = []\n",
    "for t in range(Nt):\n",
    "    for b,bus in enumerate(buses):\n",
    "        # bus energy balance\n",
    "        consts.append(\n",
    "            sum(p[g,t] for g in bus['gens']) + \n",
    "            sum(f[l,t] for l in bus['branches_in']) - \n",
    "            sum(f[l,t] for l in bus['branches_out']) == D_pu[bus['id']][t]\n",
    "        )\n",
    "    \n",
    "    # generator constraints\n",
    "    for g,gen in enumerate(gens):\n",
    "        if gen['id'] in gens_with_ts:\n",
    "            consts.append(u[g,t] == 1)\n",
    "            consts.append(v[g,t] == 0)\n",
    "            consts.append(w[g,t] == 0)\n",
    "            consts.append(p[g,t] <= gen_ts_pu[gen['id']][t])\n",
    "        else:\n",
    "            consts.append(p[g,t] <= gen['pmax_pu']*u[g,t])\n",
    "            consts.append(p[g,t] >= gen['pmin_pu']*u[g,t])\n",
    "            if t>0:\n",
    "                consts.append(p[g,t] - p[g,t-1] <= gen['ramp_rate_pu_min']*60*u[g,t-1] + gen['pmin_pu']*v[g,t])\n",
    "                consts.append(p[g,t-1] - p[g,t] <= gen['ramp_rate_pu_min']*60*u[g,t-1] + gen['pmin_pu']*w[t,i])\n",
    "            if t>0:\n",
    "                consts.append(v[g,t] - w[g,t] == u[g,t] - u[g,t-1])\n",
    "            else:\n",
    "                consts.append(v[g,t] - w[g,t] == u[g,t])\n",
    "\n",
    "    # power flow definition and constraints\n",
    "    consts.append(theta[slack_ind, t] == 0)\n",
    "    for l,line in enumerate(branches):\n",
    "        # power flow model using voltage angles\n",
    "        consts.append(f[l,t] == 1/line['x_pu'] * (theta[line['from_bus'],t] - theta[line['to_bus'],t]))\n",
    "        consts.append(f[l,t] <= line['cap_pu'])\n",
    "        consts.append(f[l,t] >= -line['cap_pu'])\n",
    "                      \n",
    "# objective with simplified production cost\n",
    "production_cost = sum(\n",
    "        sum(p[g,t]*gencost[g].pwlc.slopes[0] for g in range(Ngen))\n",
    "    for t in range(Nt))\n",
    "fixed_cost = sum(\n",
    "        sum(v[g,t]*gencost[g].startup for g in range(Ngen)) +\n",
    "        sum(w[g,t]*gencost[g].shutdown for g in range(Ngen))\n",
    "    for t in range(Nt))\n",
    "objective = production_cost + fixed_cost\n",
    "\n",
    "theprob = cp.Problem(cp.Minimize(objective), consts)\n",
    "theprob.solve(solver='GUROBI')"
   ]
  },
  {
   "cell_type": "code",
   "execution_count": null,
   "id": "9f0dcec2-b127-41c6-9085-b4045198fb64",
   "metadata": {},
   "outputs": [],
   "source": []
  }
 ],
 "metadata": {
  "kernelspec": {
   "display_name": "Python 3 (ipykernel)",
   "language": "python",
   "name": "python3"
  },
  "language_info": {
   "codemirror_mode": {
    "name": "ipython",
    "version": 3
   },
   "file_extension": ".py",
   "mimetype": "text/x-python",
   "name": "python",
   "nbconvert_exporter": "python",
   "pygments_lexer": "ipython3",
   "version": "3.12.1"
  }
 },
 "nbformat": 4,
 "nbformat_minor": 5
}
